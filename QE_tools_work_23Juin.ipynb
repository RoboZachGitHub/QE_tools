{
 "cells": [
  {
   "cell_type": "code",
   "execution_count": 1,
   "metadata": {
    "collapsed": false
   },
   "outputs": [
    {
     "name": "stdout",
     "output_type": "stream",
     "text": [
      "\n",
      "______________________________________________________________________ \n",
      "\n",
      "Periodic_structure description: \n",
      "\n",
      "  crystal_system:\n",
      "    cubic\n",
      "\n",
      "  bravais_lattice: \n",
      "    simple\n",
      "\n",
      "  Primitive_lattice_vectors:\n",
      "    v0: 5.00000\n",
      "    v1: 6.00000\n",
      "    v2: 7.50000\n",
      "  \n",
      "\n",
      "  Atoms:\n",
      "    H     Cartesians (x, y, z): (0.00000, 0.00000, 0.00000)\n",
      "    H     Cartesians (x, y, z): (0.33000, 0.66000, 0.99000)\n",
      "    H     Cartesians (x, y, z): (0.66000, 1.32000, 1.98000)\n",
      "    H     Cartesians (x, y, z): (0.99000, 1.98000, 2.97000)\n",
      "\n",
      "______________________________________________________________________\n",
      "\n"
     ]
    }
   ],
   "source": [
    "import QE_tools_data_structures as QE_structs\n",
    "reload(QE_structs)\n",
    "\n",
    "cluster = []\n",
    "for i in range(4):\n",
    "    cluster.append(QE_structs.Atom('H', [.33*i, .66*i, .99*i]))\n",
    "\n",
    "new_struct = QE_structs.Periodic_structure('cubic', 'simple', [5.0, 6.0, 7.5], cluster)\n",
    "print(new_struct)"
   ]
  },
  {
   "cell_type": "code",
   "execution_count": null,
   "metadata": {
    "collapsed": true
   },
   "outputs": [],
   "source": [
    "import QE_extraction_tools as qe_script"
   ]
  },
  {
   "cell_type": "code",
   "execution_count": 7,
   "metadata": {
    "collapsed": false
   },
   "outputs": [
    {
     "data": {
      "text/plain": [
       "[1, 2]"
      ]
     },
     "execution_count": 7,
     "metadata": {},
     "output_type": "execute_result"
    }
   ],
   "source": [
    "num_atoms = 2\n",
    "listy = [i for i in range(7)]\n",
    "listy1 = listy[1:num_atoms+1]\n",
    "listy1"
   ]
  },
  {
   "cell_type": "code",
   "execution_count": 2,
   "metadata": {
    "collapsed": false
   },
   "outputs": [
    {
     "data": {
      "text/plain": [
       "[0, 1, 2, 3]"
      ]
     },
     "execution_count": 2,
     "metadata": {},
     "output_type": "execute_result"
    }
   ],
   "source": [
    "listy"
   ]
  },
  {
   "cell_type": "code",
   "execution_count": null,
   "metadata": {
    "collapsed": true
   },
   "outputs": [],
   "source": []
  }
 ],
 "metadata": {
  "kernelspec": {
   "display_name": "Python 2",
   "language": "python",
   "name": "python2"
  },
  "language_info": {
   "codemirror_mode": {
    "name": "ipython",
    "version": 2
   },
   "file_extension": ".py",
   "mimetype": "text/x-python",
   "name": "python",
   "nbconvert_exporter": "python",
   "pygments_lexer": "ipython2",
   "version": "2.7.11"
  }
 },
 "nbformat": 4,
 "nbformat_minor": 0
}
