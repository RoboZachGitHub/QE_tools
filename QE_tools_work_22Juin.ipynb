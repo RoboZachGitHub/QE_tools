{
 "cells": [
  {
   "cell_type": "code",
   "execution_count": 28,
   "metadata": {
    "collapsed": false
   },
   "outputs": [
    {
     "data": {
      "text/plain": [
       "<module 'QE_tools_data_structures' from 'QE_tools_data_structures.pyc'>"
      ]
     },
     "execution_count": 28,
     "metadata": {},
     "output_type": "execute_result"
    }
   ],
   "source": [
    "import QE_extraction_tools as qe_tools\n",
    "reload(qe_tools)\n",
    "\n",
    "import QE_extraction_tools_scripting as qe_script\n",
    "reload(qe_script)\n",
    "\n",
    "import QE_tools_data_structures\n",
    "reload(QE_tools_data_structures)"
   ]
  },
  {
   "cell_type": "code",
   "execution_count": 111,
   "metadata": {
    "collapsed": false
   },
   "outputs": [
    {
     "name": "stdout",
     "output_type": "stream",
     "text": [
      "H     Cartesians (x, y, z): (0.00000, 1.30000, 2.20000)\n"
     ]
    }
   ],
   "source": [
    "import numpy as np\n",
    "new_atom = QE_tools_data_structures.Atom('H', [0.0, 1.3, 2.2])\n",
    "\n",
    "print(new_atom)\n",
    "#coords = np.array([0.0, 0.0, 0.0])\n",
    "#symbol = new_atom.elem_symbol\n",
    "#x, y, z = coords[0], coords[1], coords[2]\n",
    "#print \"{} Cartesians (x, y, z): ({:.5f}, {}, {})\".format(symbol, x, y, z)"
   ]
  },
  {
   "cell_type": "code",
   "execution_count": 2,
   "metadata": {
    "collapsed": false
   },
   "outputs": [
    {
     "name": "stdout",
     "output_type": "stream",
     "text": [
      "/Users/Zach/Dropbox/programming/QE_tools\n",
      "/Users/Zach/Dropbox/programming/QE_tools/testing/scf_test_files/w110_3L_test.out\n",
      "/Users/Zach/Dropbox/programming/QE_tools/testing/opt_test_files/w110_rhom_opt_cv1.out\n"
     ]
    }
   ],
   "source": [
    "import os\n",
    "print os.getcwd()\n",
    "os.listdir('/Users/Zach/Dropbox/programming/QE_tools/testing/scf_test_files')\n",
    "tmp_path_1 = os.getcwd()+'/testing/scf_test_files/w110_3L_test.out'\n",
    "tmp_path_2 = os.getcwd()+'/testing/opt_test_files/w110_rhom_opt_cv1.out'\n",
    "print tmp_path_1\n",
    "print tmp_path_2"
   ]
  },
  {
   "cell_type": "code",
   "execution_count": 113,
   "metadata": {
    "collapsed": false
   },
   "outputs": [
    {
     "ename": "NameError",
     "evalue": "name 'tmp_path' is not defined",
     "output_type": "error",
     "traceback": [
      "\u001b[0;31m---------------------------------------------------------------------------\u001b[0m",
      "\u001b[0;31mNameError\u001b[0m                                 Traceback (most recent call last)",
      "\u001b[0;32m<ipython-input-113-84dfe4788342>\u001b[0m in \u001b[0;36m<module>\u001b[0;34m()\u001b[0m\n\u001b[1;32m     23\u001b[0m     \u001b[0;32mreturn\u001b[0m \u001b[0;36m0\u001b[0m\u001b[0;34m\u001b[0m\u001b[0m\n\u001b[1;32m     24\u001b[0m \u001b[0;34m\u001b[0m\u001b[0m\n\u001b[0;32m---> 25\u001b[0;31m \u001b[0mreturn_scf_coordinates\u001b[0m\u001b[0;34m(\u001b[0m\u001b[0mtmp_path\u001b[0m\u001b[0;34m)\u001b[0m\u001b[0;34m\u001b[0m\u001b[0m\n\u001b[0m",
      "\u001b[0;31mNameError\u001b[0m: name 'tmp_path' is not defined"
     ]
    }
   ],
   "source": [
    "def return_scf_coordinates(scf_outfile_path):\n",
    "\n",
    "    number_of_atoms = qe_tools.return_number_of_atoms(scf_outfile_path)\n",
    "    \n",
    "    in_lines = qe_tools.return_qe_outfile_lines(scf_outfile_path)\n",
    "    \n",
    "    index_i = 0\n",
    "    index_f = 0\n",
    "    for i, line in enumerate(in_lines):\n",
    "        if line.find('site n.     atom') != -1:\n",
    "            index_i = i + 1\n",
    "            break\n",
    "\n",
    "    index_f = index_i + number_of_atoms\n",
    "    \n",
    "    parsed_lines = in_lines[index_i:index_f]\n",
    "    \n",
    "    for line in parsed_lines:\n",
    "        split_line = line.split()\n",
    "        elem_symbol = split_line[1]\n",
    "        x1, x2, x3 = float(split_line[6]), float(split_line[7]), float(split_line[8])\n",
    "        \n",
    "    return 0\n",
    "\n",
    "return_scf_coordinates(tmp_path)"
   ]
  },
  {
   "cell_type": "code",
   "execution_count": 114,
   "metadata": {
    "collapsed": false
   },
   "outputs": [
    {
     "ename": "NameError",
     "evalue": "name 'tmp_path' is not defined",
     "output_type": "error",
     "traceback": [
      "\u001b[0;31m---------------------------------------------------------------------------\u001b[0m",
      "\u001b[0;31mNameError\u001b[0m                                 Traceback (most recent call last)",
      "\u001b[0;32m<ipython-input-114-468de772c507>\u001b[0m in \u001b[0;36m<module>\u001b[0;34m()\u001b[0m\n\u001b[0;32m----> 1\u001b[0;31m \u001b[0mqe_tools\u001b[0m\u001b[0;34m.\u001b[0m\u001b[0mreturn_celldms\u001b[0m\u001b[0;34m(\u001b[0m\u001b[0mtmp_path\u001b[0m\u001b[0;34m)\u001b[0m\u001b[0;34m\u001b[0m\u001b[0m\n\u001b[0m",
      "\u001b[0;31mNameError\u001b[0m: name 'tmp_path' is not defined"
     ]
    }
   ],
   "source": [
    "qe_tools.return_celldms(tmp_path)"
   ]
  },
  {
   "cell_type": "code",
   "execution_count": 19,
   "metadata": {
    "collapsed": false
   },
   "outputs": [
    {
     "data": {
      "text/plain": [
       "'/Users/Zach/Dropbox/programming/QE_tools/testing/opt_test_files/w110_rhom_opt_cv1.out'"
      ]
     },
     "execution_count": 19,
     "metadata": {},
     "output_type": "execute_result"
    }
   ],
   "source": [
    "tmp_lines_1 = qe_script.return_qe_outfile_lines(tmp_path_1)\n",
    "tmp_lines_2 = qe_script.return_qe_outfile_lines(tmp_path_2)\n",
    "tmp_path_1\n",
    "tmp_path_2"
   ]
  },
  {
   "cell_type": "code",
   "execution_count": 29,
   "metadata": {
    "collapsed": false
   },
   "outputs": [
    {
     "name": "stdout",
     "output_type": "stream",
     "text": [
      "opt_check is False\n",
      "['         1           W   tau(  1) = (   0.0000000   0.0000000   0.0000000  )\\n', '         2           W   tau(  2) = (   0.5000000   0.7071070   0.0000000  )\\n', '         3           W   tau(  3) = (   0.0000000   0.7071070   0.7071070  )\\n', '         4           W   tau(  4) = (   0.5000000   0.0000000   0.7071070  )\\n', '         5           W   tau(  5) = (  -0.0000007  -0.0003207   1.4148510  )\\n']\n"
     ]
    }
   ],
   "source": [
    "qe_script.return_coordinates2(tmp_lines_1)"
   ]
  },
  {
   "cell_type": "code",
   "execution_count": 30,
   "metadata": {
    "collapsed": false
   },
   "outputs": [
    {
     "name": "stdout",
     "output_type": "stream",
     "text": [
      "opt_check is True\n",
      "['W        0.000000000   0.000000000   0.000000000    0   0   0\\n', 'W        0.500000000   0.000000000   0.000000000    0   0   0\\n', 'W       -0.000000000   0.500000000   0.000000000    0   0   0\\n', 'W        0.500000000   0.500000000   0.000000000    0   0   0\\n', 'W        0.250000000   0.250000000   0.072072670    0   0   0\\n', 'W        0.250000000   0.750000000   0.072072670    0   0   0\\n', 'W        0.750000000   0.250000000   0.072072670    0   0   0\\n', 'W        0.750000000   0.750000000   0.072072670    0   0   0\\n', 'W        0.000133278  -0.000133255   0.144231657\\n', 'W        0.500132838  -0.000133793   0.144231821\\n', 'W        0.000133092   0.499865975   0.144231476\\n', 'W        0.500132298   0.499865800   0.144231652\\n', 'W        0.250129923   0.249869779   0.216086478\\n', 'W        0.250131445   0.749869928   0.216086103\\n', 'W        0.750129766   0.249868266   0.216086091\\n', 'W        0.750132292   0.749867417   0.216086257\\n', 'W       -0.000754654   0.000756061   0.288403558\\n', 'W        0.499246179   0.000754132   0.288403796\\n', 'W       -0.000753216   0.500753650   0.288403322\\n', 'W        0.499244417   0.500754980   0.288403546\\n', 'W        0.244747930   0.255250452   0.359267198\\n', 'W        0.244741859   0.755254275   0.359266330\\n', 'W        0.744744090   0.255256546   0.359266365\\n', 'W        0.744747678   0.755250766   0.359265941\\n', 'H        0.071198501   0.928805454   0.394107873\\n', 'H        0.071193011   0.428801571   0.394101965\\n', 'H        0.571192030   0.428799507   0.394107868\\n']\n"
     ]
    }
   ],
   "source": [
    "qe_script.return_coordinates2(tmp_lines_2)"
   ]
  },
  {
   "cell_type": "code",
   "execution_count": null,
   "metadata": {
    "collapsed": false
   },
   "outputs": [],
   "source": [
    "tester = None\n",
    "tester = False\n",
    "if tester:\n",
    "    print \"here\""
   ]
  },
  {
   "cell_type": "code",
   "execution_count": 20,
   "metadata": {
    "collapsed": false
   },
   "outputs": [
    {
     "data": {
      "text/plain": [
       "[10.431375, 1.0, 5.6644, -0.333333, 0.0, 0.0]"
      ]
     },
     "execution_count": 20,
     "metadata": {},
     "output_type": "execute_result"
    }
   ],
   "source": [
    "qe_script.return_celldms(tmp_lines_2)"
   ]
  },
  {
   "cell_type": "code",
   "execution_count": 21,
   "metadata": {
    "collapsed": false
   },
   "outputs": [
    {
     "data": {
      "text/plain": [
       "[6.022557, 1.414214, 9.811028, 0.0, 0.0, 0.0]"
      ]
     },
     "execution_count": 21,
     "metadata": {},
     "output_type": "execute_result"
    }
   ],
   "source": [
    "qe_script.return_celldms(tmp_lines_1)"
   ]
  },
  {
   "cell_type": "code",
   "execution_count": null,
   "metadata": {
    "collapsed": true
   },
   "outputs": [],
   "source": []
  }
 ],
 "metadata": {
  "kernelspec": {
   "display_name": "Python 2",
   "language": "python",
   "name": "python2"
  },
  "language_info": {
   "codemirror_mode": {
    "name": "ipython",
    "version": 2
   },
   "file_extension": ".py",
   "mimetype": "text/x-python",
   "name": "python",
   "nbconvert_exporter": "python",
   "pygments_lexer": "ipython2",
   "version": "2.7.11"
  }
 },
 "nbformat": 4,
 "nbformat_minor": 0
}
